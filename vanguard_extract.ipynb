{
 "cells": [
  {
   "cell_type": "code",
   "execution_count": 3,
   "id": "0dcfa588-10f8-4ef7-b203-b235681243c1",
   "metadata": {},
   "outputs": [],
   "source": [
    "import duckdb"
   ]
  },
  {
   "cell_type": "code",
   "execution_count": 4,
   "id": "b54c51c9-72d5-4fea-816f-290729915d41",
   "metadata": {},
   "outputs": [],
   "source": [
    "con = duckdb.connect(\"vanguard.db\")"
   ]
  },
  {
   "cell_type": "markdown",
   "id": "8f1373b9-b428-4295-9b2e-b6a10243b572",
   "metadata": {},
   "source": [
    "The source csv has the funds as columns - retrieve all these columns then format into some pivot sql"
   ]
  },
  {
   "cell_type": "code",
   "execution_count": 3,
   "id": "1d893040-60b6-4d08-a822-1af982a79024",
   "metadata": {
    "scrolled": true
   },
   "outputs": [
    {
     "data": {
      "text/plain": [
       "'cast(LifeStrategy®20EquityFund as double), cast(LifeStrategy®40EquityFund as double), cast(LifeStrategy®60EquityFund as double), cast(LifeStrategy®80EquityFund as double), cast(LifeStrategy®100EquityFund as double), cast(SustainableLife4050EquityFund as double), cast(SustainableLife6070EquityFund as double), cast(SustainableLife8090EquityFund as double), cast(TargetRetirement2015Fund as double), cast(TargetRetirement2020Fund as double), cast(TargetRetirement2025Fund as double), cast(TargetRetirement2030Fund as double), cast(TargetRetirement2035Fund as double), cast(TargetRetirement2040Fund as double), cast(TargetRetirement2045Fund as double), cast(TargetRetirement2050Fund as double), cast(TargetRetirement2055Fund as double), cast(TargetRetirement2060Fund as double), cast(TargetRetirement2065Fund as double), cast(ActiveUKEquityFund as double), cast(EmergingMarketsBondFund as double), cast(EmergingMarketsStockIndexFund as double), cast(ESGDevelopedAsiaPacificAllCapUCITSETF as double), cast(ESGDevelopedEuropeAllCapUCITSETF as double), cast(ESGDevelopedWorldAllCapEquityIndexFund as double), cast(ESGDevelopedWorldAllCapEquityIndexFundUK as double), cast(ESGEmergingMarketsAllCapEquityIndexFund as double), cast(ESGEmergingMarketsAllCapUCITSETF as double), cast(ESGEURCorporateBondUCITSETF as double), cast(ESGGlobalAllCapUCITSETF as double), cast(ESGGlobalCorporateBondIndexFund as double), cast(ESGGlobalCorporateBondUCITSETF as double), cast(ESGNorthAmericaAllCapUCITSETF as double), cast(ESGUSDCorporateBondUCITSETF as double), cast(EURCorporateBondUCITSETF as double), cast(EUREurozoneGovernmentBondUCITSETF as double), cast(EuroGovernmentBondIndexFund as double), cast(EuroInvestmentGradeBondIndexFund as double), cast(FTSE100IndexUnitTrust as double), cast(FTSE100UCITSETF as double), cast(FTSE250UCITSETF as double), cast(FTSEAllWorldHighDividendYieldUCITSETF as double), cast(FTSEAllWorldUCITSETF as double), cast(FTSEDevelopedAsiaPacificexJapanUCITSETF as double), cast(FTSEDevelopedEuropeexUKUCITSETF as double), cast(FTSEDevelopedEuropeexUKEquityIndexFund as double), cast(FTSEDevelopedEuropeUCITSETF as double), cast(FTSEDevelopedWorldexUKEquityIndexFund as double), cast(FTSEDevelopedWorldUCITSETF as double), cast(FTSEEmergingMarketsUCITSETF as double), cast(FTSEGlobalAllCapIndexFund as double), cast(FTSEJapanUCITSETF as double), cast(FTSENorthAmericaUCITSETF as double), cast(FTSEUKAllShareIndexUnitTrust as double), cast(FTSEUKEquityIncomeIndexFund as double), cast(GermanyAllCapUCITSETF as double), cast(GlobalAggregateBondUCITSETF as double), cast(GlobalBondIndexFund as double), cast(GlobalCorporateBondIndexFund as double), cast(GlobalCreditBondFund as double), cast(GlobalEmergingMarketsFund as double), cast(GlobalEquityFund as double), cast(GlobalEquityIncomeFund as double), cast(GlobalShortTermBondIndexFund as double), cast(GlobalShortTermCorporateBondIndexFund as double), cast(GlobalSmallCapIndexFund as double), cast(GlobalSustainableEquityFund as double), cast(JapanGovernmentBondIndexFund as double), cast(JapanStockIndexFund as double), cast(PacificexJapanStockIndexFund as double), cast(SAndP500UCITSETF as double), cast(SRIEuropeanStockFund as double), cast(SterlingShortTermMoneyMarketFund as double), cast(UKGiltUCITSETF as double), cast(UKGovernmentBondIndexFund as double), cast(UKInflationLinkedGiltIndexFund as double), cast(UKInvestmentGradeBondIndexFund as double), cast(UKLongDurationGiltIndexFund as double), cast(UKShortTermInvestmentGradeBondIndexFund as double), cast(USEquityIndexFund as double), cast(USGovernmentBondIndexFund as double), cast(USInvestmentGradeCreditIndexFund as double), cast(USDCorporate13YearBondUCITSETF as double), cast(USDCorporateBondUCITSETF as double), cast(USDEmergingMarketsGovernmentBondUCITSETF as double), cast(USDTreasuryBondUCITSETF as double)'"
      ]
     },
     "execution_count": 3,
     "metadata": {},
     "output_type": "execute_result"
    }
   ],
   "source": [
    "columns = con.execute(\"select * from (describe select * from performance_tmp2.csv) x where column_name != 'Date'\").df()['column_name']\n",
    "formatted_columns = [\"cast(\"+c+\" as double)\" for c in columns]\n",
    "joined_columns = \", \".join(formatted_columns)\n",
    "joined_columns"
   ]
  },
  {
   "cell_type": "code",
   "execution_count": 4,
   "id": "e04bdd5a-1370-4dc4-9ca7-f0e4da0fb9ff",
   "metadata": {},
   "outputs": [
    {
     "data": {
      "text/plain": [
       "\"create table FundPerformance as select Date, strptime(date, '%b%Y') AsDate, Fund, Perf, Perf/100+1 as 'Decimal_Perf' from (unpivot performance_tmp2.csv on cast(LifeStrategy®20EquityFund as double), cast(LifeStrategy®40EquityFund as double), cast(LifeStrategy®60EquityFund as double), cast(LifeStrategy®80EquityFund as double), cast(LifeStrategy®100EquityFund as double), cast(SustainableLife4050EquityFund as double), cast(SustainableLife6070EquityFund as double), cast(SustainableLife8090EquityFund as double), cast(TargetRetirement2015Fund as double), cast(TargetRetirement2020Fund as double), cast(TargetRetirement2025Fund as double), cast(TargetRetirement2030Fund as double), cast(TargetRetirement2035Fund as double), cast(TargetRetirement2040Fund as double), cast(TargetRetirement2045Fund as double), cast(TargetRetirement2050Fund as double), cast(TargetRetirement2055Fund as double), cast(TargetRetirement2060Fund as double), cast(TargetRetirement2065Fund as double), cast(ActiveUKEquityFund as double), cast(EmergingMarketsBondFund as double), cast(EmergingMarketsStockIndexFund as double), cast(ESGDevelopedAsiaPacificAllCapUCITSETF as double), cast(ESGDevelopedEuropeAllCapUCITSETF as double), cast(ESGDevelopedWorldAllCapEquityIndexFund as double), cast(ESGDevelopedWorldAllCapEquityIndexFundUK as double), cast(ESGEmergingMarketsAllCapEquityIndexFund as double), cast(ESGEmergingMarketsAllCapUCITSETF as double), cast(ESGEURCorporateBondUCITSETF as double), cast(ESGGlobalAllCapUCITSETF as double), cast(ESGGlobalCorporateBondIndexFund as double), cast(ESGGlobalCorporateBondUCITSETF as double), cast(ESGNorthAmericaAllCapUCITSETF as double), cast(ESGUSDCorporateBondUCITSETF as double), cast(EURCorporateBondUCITSETF as double), cast(EUREurozoneGovernmentBondUCITSETF as double), cast(EuroGovernmentBondIndexFund as double), cast(EuroInvestmentGradeBondIndexFund as double), cast(FTSE100IndexUnitTrust as double), cast(FTSE100UCITSETF as double), cast(FTSE250UCITSETF as double), cast(FTSEAllWorldHighDividendYieldUCITSETF as double), cast(FTSEAllWorldUCITSETF as double), cast(FTSEDevelopedAsiaPacificexJapanUCITSETF as double), cast(FTSEDevelopedEuropeexUKUCITSETF as double), cast(FTSEDevelopedEuropeexUKEquityIndexFund as double), cast(FTSEDevelopedEuropeUCITSETF as double), cast(FTSEDevelopedWorldexUKEquityIndexFund as double), cast(FTSEDevelopedWorldUCITSETF as double), cast(FTSEEmergingMarketsUCITSETF as double), cast(FTSEGlobalAllCapIndexFund as double), cast(FTSEJapanUCITSETF as double), cast(FTSENorthAmericaUCITSETF as double), cast(FTSEUKAllShareIndexUnitTrust as double), cast(FTSEUKEquityIncomeIndexFund as double), cast(GermanyAllCapUCITSETF as double), cast(GlobalAggregateBondUCITSETF as double), cast(GlobalBondIndexFund as double), cast(GlobalCorporateBondIndexFund as double), cast(GlobalCreditBondFund as double), cast(GlobalEmergingMarketsFund as double), cast(GlobalEquityFund as double), cast(GlobalEquityIncomeFund as double), cast(GlobalShortTermBondIndexFund as double), cast(GlobalShortTermCorporateBondIndexFund as double), cast(GlobalSmallCapIndexFund as double), cast(GlobalSustainableEquityFund as double), cast(JapanGovernmentBondIndexFund as double), cast(JapanStockIndexFund as double), cast(PacificexJapanStockIndexFund as double), cast(SAndP500UCITSETF as double), cast(SRIEuropeanStockFund as double), cast(SterlingShortTermMoneyMarketFund as double), cast(UKGiltUCITSETF as double), cast(UKGovernmentBondIndexFund as double), cast(UKInflationLinkedGiltIndexFund as double), cast(UKInvestmentGradeBondIndexFund as double), cast(UKLongDurationGiltIndexFund as double), cast(UKShortTermInvestmentGradeBondIndexFund as double), cast(USEquityIndexFund as double), cast(USGovernmentBondIndexFund as double), cast(USInvestmentGradeCreditIndexFund as double), cast(USDCorporate13YearBondUCITSETF as double), cast(USDCorporateBondUCITSETF as double), cast(USDEmergingMarketsGovernmentBondUCITSETF as double), cast(USDTreasuryBondUCITSETF as double) into name Fund value Perf) x\""
      ]
     },
     "execution_count": 4,
     "metadata": {},
     "output_type": "execute_result"
    }
   ],
   "source": [
    "pivot_sql = \"create table FundPerformance as select Date, strptime(date, '%b%Y') AsDate, Fund, Perf, Perf/100+1 as 'Decimal_Perf' from (unpivot performance_tmp2.csv on \" + joined_columns + \" into name Fund value Perf) x\"\n",
    "pivot_sql"
   ]
  },
  {
   "cell_type": "code",
   "execution_count": 5,
   "id": "13c5bc90-8283-460f-b4e5-05badf77a234",
   "metadata": {},
   "outputs": [
    {
     "data": {
      "text/html": [
       "<div>\n",
       "<style scoped>\n",
       "    .dataframe tbody tr th:only-of-type {\n",
       "        vertical-align: middle;\n",
       "    }\n",
       "\n",
       "    .dataframe tbody tr th {\n",
       "        vertical-align: top;\n",
       "    }\n",
       "\n",
       "    .dataframe thead th {\n",
       "        text-align: right;\n",
       "    }\n",
       "</style>\n",
       "<table border=\"1\" class=\"dataframe\">\n",
       "  <thead>\n",
       "    <tr style=\"text-align: right;\">\n",
       "      <th></th>\n",
       "      <th>Count</th>\n",
       "    </tr>\n",
       "  </thead>\n",
       "  <tbody>\n",
       "    <tr>\n",
       "      <th>0</th>\n",
       "      <td>7846</td>\n",
       "    </tr>\n",
       "  </tbody>\n",
       "</table>\n",
       "</div>"
      ],
      "text/plain": [
       "   Count\n",
       "0   7846"
      ]
     },
     "execution_count": 5,
     "metadata": {},
     "output_type": "execute_result"
    }
   ],
   "source": [
    "con.execute(pivot_sql).df()"
   ]
  },
  {
   "cell_type": "code",
   "execution_count": 6,
   "id": "5bf8d281-0487-4db4-b86a-8b2fbdebbd36",
   "metadata": {},
   "outputs": [
    {
     "data": {
      "text/plain": [
       "(       AsDate  Perf  Decimal_Perf        cum\n",
       " 0  2022-01-01 -2.97        0.9703  -2.970000\n",
       " 1  2022-02-01 -1.78        0.9822  -4.697134\n",
       " 2  2022-03-01  1.17        1.0117  -3.582090\n",
       " 3  2022-04-01 -3.06        0.9694  -6.532478\n",
       " 4  2022-05-01 -0.62        0.9938  -7.111977\n",
       " 5  2022-06-01 -4.13        0.9587 -10.948252\n",
       " 6  2022-07-01  5.03        1.0503  -6.468950\n",
       " 7  2022-08-01 -1.74        0.9826  -8.096390\n",
       " 8  2022-09-01 -5.63        0.9437 -13.270563\n",
       " 9  2022-10-01  1.86        1.0186 -11.657396\n",
       " 10 2022-11-01  4.04        1.0404  -8.088354\n",
       " 11 2022-12-01 -3.40        0.9660 -11.213350,)"
      ]
     },
     "execution_count": 6,
     "metadata": {},
     "output_type": "execute_result"
    }
   ],
   "source": [
    "con.execute(\"select AsDate, Perf, Decimal_Perf, (EXP(SUM(LN(Decimal_Perf)) OVER (ORDER BY AsDate))-1)*100 AS cum from FundPerformance where fund = 'LifeStrategy®60EquityFund' and AsDate between '2022-01-01' and '2022-12-31' order by AsDate asc\").df(),"
   ]
  },
  {
   "cell_type": "code",
   "execution_count": 7,
   "id": "42b6e71c-3cce-4378-bb60-77a08fce07a1",
   "metadata": {},
   "outputs": [
    {
     "data": {
      "text/html": [
       "<div>\n",
       "<style scoped>\n",
       "    .dataframe tbody tr th:only-of-type {\n",
       "        vertical-align: middle;\n",
       "    }\n",
       "\n",
       "    .dataframe tbody tr th {\n",
       "        vertical-align: top;\n",
       "    }\n",
       "\n",
       "    .dataframe thead th {\n",
       "        text-align: right;\n",
       "    }\n",
       "</style>\n",
       "<table border=\"1\" class=\"dataframe\">\n",
       "  <thead>\n",
       "    <tr style=\"text-align: right;\">\n",
       "      <th></th>\n",
       "      <th>FundName</th>\n",
       "      <th>Region</th>\n",
       "      <th>RiskLevel</th>\n",
       "      <th>ManagementType</th>\n",
       "      <th>NumberofAssets</th>\n",
       "      <th>OngoingCharge</th>\n",
       "    </tr>\n",
       "  </thead>\n",
       "  <tbody>\n",
       "    <tr>\n",
       "      <th>0</th>\n",
       "      <td>LifeStrategy®20EquityFund</td>\n",
       "      <td>Global</td>\n",
       "      <td>4</td>\n",
       "      <td>Index</td>\n",
       "      <td>24977</td>\n",
       "      <td>022</td>\n",
       "    </tr>\n",
       "    <tr>\n",
       "      <th>1</th>\n",
       "      <td>LifeStrategy®40EquityFund</td>\n",
       "      <td>Global</td>\n",
       "      <td>4</td>\n",
       "      <td>Index</td>\n",
       "      <td>29723</td>\n",
       "      <td>022</td>\n",
       "    </tr>\n",
       "    <tr>\n",
       "      <th>2</th>\n",
       "      <td>LifeStrategy®60EquityFund</td>\n",
       "      <td>Global</td>\n",
       "      <td>4</td>\n",
       "      <td>Index</td>\n",
       "      <td>28343</td>\n",
       "      <td>022</td>\n",
       "    </tr>\n",
       "    <tr>\n",
       "      <th>3</th>\n",
       "      <td>LifeStrategy®80EquityFund</td>\n",
       "      <td>Global</td>\n",
       "      <td>5</td>\n",
       "      <td>Index</td>\n",
       "      <td>23444</td>\n",
       "      <td>022</td>\n",
       "    </tr>\n",
       "    <tr>\n",
       "      <th>4</th>\n",
       "      <td>LifeStrategy®100EquityFund</td>\n",
       "      <td>Global</td>\n",
       "      <td>5</td>\n",
       "      <td>Index</td>\n",
       "      <td>7405</td>\n",
       "      <td>022</td>\n",
       "    </tr>\n",
       "    <tr>\n",
       "      <th>...</th>\n",
       "      <td>...</td>\n",
       "      <td>...</td>\n",
       "      <td>...</td>\n",
       "      <td>...</td>\n",
       "      <td>...</td>\n",
       "      <td>...</td>\n",
       "    </tr>\n",
       "    <tr>\n",
       "      <th>81</th>\n",
       "      <td>USInvestmentGradeCreditIndexFund</td>\n",
       "      <td>USA</td>\n",
       "      <td>4</td>\n",
       "      <td>Index</td>\n",
       "      <td>7035</td>\n",
       "      <td>012</td>\n",
       "    </tr>\n",
       "    <tr>\n",
       "      <th>82</th>\n",
       "      <td>USDCorporate13YearBondUCITSETF</td>\n",
       "      <td>Global</td>\n",
       "      <td>3</td>\n",
       "      <td>Index</td>\n",
       "      <td>1946</td>\n",
       "      <td>009</td>\n",
       "    </tr>\n",
       "    <tr>\n",
       "      <th>83</th>\n",
       "      <td>USDCorporateBondUCITSETF</td>\n",
       "      <td>Global</td>\n",
       "      <td>4</td>\n",
       "      <td>Index</td>\n",
       "      <td>8523</td>\n",
       "      <td>009</td>\n",
       "    </tr>\n",
       "    <tr>\n",
       "      <th>84</th>\n",
       "      <td>USDEmergingMarketsGovernmentBondUCITSETF</td>\n",
       "      <td>Emerging</td>\n",
       "      <td>4</td>\n",
       "      <td>Index</td>\n",
       "      <td>1291</td>\n",
       "      <td>025</td>\n",
       "    </tr>\n",
       "    <tr>\n",
       "      <th>85</th>\n",
       "      <td>USDTreasuryBondUCITSETF</td>\n",
       "      <td>USA</td>\n",
       "      <td>3</td>\n",
       "      <td>Index</td>\n",
       "      <td>277</td>\n",
       "      <td>007</td>\n",
       "    </tr>\n",
       "  </tbody>\n",
       "</table>\n",
       "<p>86 rows × 6 columns</p>\n",
       "</div>"
      ],
      "text/plain": [
       "                                    FundName    Region  RiskLevel  \\\n",
       "0                  LifeStrategy®20EquityFund    Global          4   \n",
       "1                  LifeStrategy®40EquityFund    Global          4   \n",
       "2                  LifeStrategy®60EquityFund    Global          4   \n",
       "3                  LifeStrategy®80EquityFund    Global          5   \n",
       "4                 LifeStrategy®100EquityFund    Global          5   \n",
       "..                                       ...       ...        ...   \n",
       "81          USInvestmentGradeCreditIndexFund       USA          4   \n",
       "82            USDCorporate13YearBondUCITSETF    Global          3   \n",
       "83                  USDCorporateBondUCITSETF    Global          4   \n",
       "84  USDEmergingMarketsGovernmentBondUCITSETF  Emerging          4   \n",
       "85                   USDTreasuryBondUCITSETF       USA          3   \n",
       "\n",
       "   ManagementType  NumberofAssets OngoingCharge  \n",
       "0           Index           24977           022  \n",
       "1           Index           29723           022  \n",
       "2           Index           28343           022  \n",
       "3           Index           23444           022  \n",
       "4           Index            7405           022  \n",
       "..            ...             ...           ...  \n",
       "81          Index            7035           012  \n",
       "82          Index            1946           009  \n",
       "83          Index            8523           009  \n",
       "84          Index            1291           025  \n",
       "85          Index             277           007  \n",
       "\n",
       "[86 rows x 6 columns]"
      ]
     },
     "execution_count": 7,
     "metadata": {},
     "output_type": "execute_result"
    }
   ],
   "source": [
    "con.execute(\"create table as select * from info_clean.csv\").df()"
   ]
  },
  {
   "cell_type": "code",
   "execution_count": 7,
   "id": "b3bd1344-cf32-4acf-9090-2bd0b7eb4756",
   "metadata": {},
   "outputs": [],
   "source": [
    "con.close()"
   ]
  }
 ],
 "metadata": {
  "kernelspec": {
   "display_name": "Python 3 (ipykernel)",
   "language": "python",
   "name": "python3"
  },
  "language_info": {
   "codemirror_mode": {
    "name": "ipython",
    "version": 3
   },
   "file_extension": ".py",
   "mimetype": "text/x-python",
   "name": "python",
   "nbconvert_exporter": "python",
   "pygments_lexer": "ipython3",
   "version": "3.8.6"
  }
 },
 "nbformat": 4,
 "nbformat_minor": 5
}
