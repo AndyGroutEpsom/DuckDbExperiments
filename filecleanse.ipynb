{
 "cells": [
  {
   "cell_type": "code",
   "execution_count": 2,
   "id": "ecb97c73-2216-45a4-bd25-d461b68d1d2d",
   "metadata": {},
   "outputs": [],
   "source": [
    "import os"
   ]
  },
  {
   "cell_type": "code",
   "execution_count": 3,
   "id": "8d234aee-803a-4f98-b36b-e5883f91bddb",
   "metadata": {},
   "outputs": [],
   "source": [
    "file_name = 'info.csv'\n",
    "new_file_name = 'info_clean.csv'"
   ]
  },
  {
   "cell_type": "code",
   "execution_count": 8,
   "id": "982b6e94-d431-49bb-a8f8-82e581682700",
   "metadata": {},
   "outputs": [],
   "source": [
    "def clean_line(line):\n",
    "    line = line.replace('%', '')\n",
    "    line = line.replace(' ', '')\n",
    "    line = line.replace('.', '')\n",
    "    line = line.replace('-', '')\n",
    "    line = line.replace('&', 'And')\n",
    "    line = line.replace('(', '')\n",
    "    line = line.replace(')', '')\n",
    "    return line"
   ]
  },
  {
   "cell_type": "code",
   "execution_count": 10,
   "id": "92fe698f-c944-41bc-bf7f-a844066ede73",
   "metadata": {},
   "outputs": [],
   "source": [
    "# Open the file in read mode\n",
    "with open(filename, 'r') as file:\n",
    "    # Read all lines from the file\n",
    "    lines = file.readlines()\n",
    "\n",
    "    for i in range(len(lines)):\n",
    "        lines[i] = clean_line(lines[i])\n",
    "        \n",
    "# Open the file in write mode to save the changes\n",
    "new_file = new_file_name\n",
    "if os.path.exists(new_file):\n",
    "    os.remove(new_file)\n",
    "with open(new_file, 'w') as file:\n",
    "    # Write the modified lines back to the file\n",
    "    file.writelines(lines)"
   ]
  },
  {
   "cell_type": "code",
   "execution_count": null,
   "id": "8d959e54-86af-418d-86bb-90cca46b9ad9",
   "metadata": {},
   "outputs": [],
   "source": []
  }
 ],
 "metadata": {
  "kernelspec": {
   "display_name": "Python 3 (ipykernel)",
   "language": "python",
   "name": "python3"
  },
  "language_info": {
   "codemirror_mode": {
    "name": "ipython",
    "version": 3
   },
   "file_extension": ".py",
   "mimetype": "text/x-python",
   "name": "python",
   "nbconvert_exporter": "python",
   "pygments_lexer": "ipython3",
   "version": "3.8.6"
  }
 },
 "nbformat": 4,
 "nbformat_minor": 5
}
